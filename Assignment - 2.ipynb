{
 "cells": [
  {
   "cell_type": "markdown",
   "id": "2edcd535-cab0-40cc-87fa-4e17afcb736e",
   "metadata": {},
   "source": [
    "# <center>Assignment - 2</center>"
   ]
  },
  {
   "cell_type": "markdown",
   "id": "52df90b8-0005-4d2a-a48f-f29d2ff9e4b6",
   "metadata": {
    "tags": []
   },
   "source": [
    "#### Q1. How do you comment code in Python? What are the different types of comments?"
   ]
  },
  {
   "cell_type": "markdown",
   "id": "bcc565b9-4f7a-424d-b983-bc073ece2ee1",
   "metadata": {},
   "source": [
    "Two types of comments available in python.\n",
    "* Single line comment\n",
    "* Multi line comment (Docstring comment)\n",
    "\n",
    "Please find example of comment code below:"
   ]
  },
  {
   "cell_type": "code",
   "execution_count": 3,
   "id": "9b7e8333-63c0-4cb8-bb55-15a6e282b278",
   "metadata": {},
   "outputs": [
    {
     "name": "stdout",
     "output_type": "stream",
     "text": [
      "This is example of single line comments\n"
     ]
    }
   ],
   "source": [
    "# Single line comment example\n",
    "\n",
    "print(\"This is example of single line comments\")"
   ]
  },
  {
   "cell_type": "code",
   "execution_count": 4,
   "id": "bdb3b201-79c3-4aeb-8890-2f62826975e7",
   "metadata": {},
   "outputs": [
    {
     "name": "stdout",
     "output_type": "stream",
     "text": [
      "This is example of multi line comments\n"
     ]
    }
   ],
   "source": [
    "\"\"\" This is multi line comment example\n",
    "use triple quotes for multiline  comment \"\"\"\n",
    "\n",
    "print(\"This is example of multi line comments\")"
   ]
  },
  {
   "cell_type": "raw",
   "id": "54595ee1-8f67-4c55-8567-b1511a63ebf3",
   "metadata": {},
   "source": []
  },
  {
   "cell_type": "markdown",
   "id": "4adb1ab0-f0b9-4767-8405-917ac2e783e9",
   "metadata": {},
   "source": [
    "#### Q2. What are variables in Python? How do you declare and assign values to variables?"
   ]
  },
  {
   "cell_type": "markdown",
   "id": "f3b9dad0-3853-4be8-9677-7a592f179c91",
   "metadata": {},
   "source": [
    "Variables are container which stores values in Python. Python variable stores differet types of data. Once we assign value to variable, we can use that by variable name. Python is not strictally typed So, we don't need to provide type of data while assigning value to variable. We can not declare variable in python with paticular data type. We need to direct assign value to varible for creating variable in python.\n",
    "\n",
    "Please find below example for declare and assign values to variable:"
   ]
  },
  {
   "cell_type": "code",
   "execution_count": 8,
   "id": "a08ac70a-1b9d-4e71-b48c-edd2d445b7d2",
   "metadata": {},
   "outputs": [],
   "source": [
    "# interger value\n",
    "varInt = 5\n",
    "\n",
    "#flat value\n",
    "varFloat = 5.5\n",
    "\n",
    "#string value\n",
    "varStr = \"PWSkills\""
   ]
  },
  {
   "cell_type": "code",
   "execution_count": 11,
   "id": "a587fda0-6c2e-4e84-9a5d-da885827cb94",
   "metadata": {},
   "outputs": [
    {
     "name": "stdout",
     "output_type": "stream",
     "text": [
      "5\n",
      "<class 'int'>\n"
     ]
    }
   ],
   "source": [
    "print(varInt)\n",
    "print(type(varInt))"
   ]
  },
  {
   "cell_type": "code",
   "execution_count": 12,
   "id": "80233509-9cd0-40ff-8992-38b24f34a480",
   "metadata": {},
   "outputs": [
    {
     "name": "stdout",
     "output_type": "stream",
     "text": [
      "5.5\n",
      "<class 'float'>\n"
     ]
    }
   ],
   "source": [
    "print(varFloat)\n",
    "print(type(varFloat))"
   ]
  },
  {
   "cell_type": "code",
   "execution_count": 13,
   "id": "a3e2f376-a577-4c07-927c-7f2ab0217cc1",
   "metadata": {},
   "outputs": [
    {
     "name": "stdout",
     "output_type": "stream",
     "text": [
      "PWSkills\n",
      "<class 'str'>\n"
     ]
    }
   ],
   "source": [
    "print(varStr)\n",
    "print(type(varStr))"
   ]
  },
  {
   "cell_type": "raw",
   "id": "97455b8c-2c21-468a-a2b1-e2eb74120097",
   "metadata": {},
   "source": []
  },
  {
   "cell_type": "markdown",
   "id": "a922556d-3ed0-4f78-9dfb-0a2e782da284",
   "metadata": {},
   "source": [
    "#### Q3. How do you convert one data type to another in Python?"
   ]
  },
  {
   "cell_type": "markdown",
   "id": "5d8faf0c-2c3b-49c4-ada9-68952ab3dbf9",
   "metadata": {},
   "source": [
    "Python provides type casting concept for convert one data type to another and also provides built in functions for these."
   ]
  },
  {
   "cell_type": "code",
   "execution_count": 14,
   "id": "788b44bd-db4a-49e3-a550-d92bf1757bfd",
   "metadata": {},
   "outputs": [],
   "source": [
    "# Lets declare string variable\n",
    "varValue = \"52\""
   ]
  },
  {
   "cell_type": "code",
   "execution_count": 15,
   "id": "12a830f9-79c0-483d-bac9-76c5f5b0265f",
   "metadata": {},
   "outputs": [
    {
     "data": {
      "text/plain": [
       "str"
      ]
     },
     "execution_count": 15,
     "metadata": {},
     "output_type": "execute_result"
    }
   ],
   "source": [
    "type(varValue)"
   ]
  },
  {
   "cell_type": "code",
   "execution_count": 16,
   "id": "1b99fb81-5ee6-4b45-ba0c-9958c3d84033",
   "metadata": {},
   "outputs": [],
   "source": [
    "# convert varValue from string to int using type casting\n",
    "varValueNew = int(varValue)"
   ]
  },
  {
   "cell_type": "code",
   "execution_count": 17,
   "id": "21457538-d819-449c-8688-26ce2b8c0941",
   "metadata": {},
   "outputs": [
    {
     "data": {
      "text/plain": [
       "int"
      ]
     },
     "execution_count": 17,
     "metadata": {},
     "output_type": "execute_result"
    }
   ],
   "source": [
    "type(varValueNew)"
   ]
  },
  {
   "cell_type": "raw",
   "id": "fac29e41-558f-437a-a951-4e16bbd0ce85",
   "metadata": {},
   "source": []
  },
  {
   "cell_type": "markdown",
   "id": "329a203c-811b-487d-9a66-a726844fc0bd",
   "metadata": {},
   "source": [
    "#### Q4. How do you write and execute a Python script from the command line?"
   ]
  },
  {
   "cell_type": "markdown",
   "id": "91d37b26-568d-40d8-88c6-ca8c8075e2fd",
   "metadata": {},
   "source": [
    "* We need to open command prompt. Write 'python' keyword and press enter. So, it enables to write python code in cmd. You need to wite code press enter so, it can display outpu in next line.\n",
    "* If we have python script in particular folder in our machine then also we can run this in cmd. For that we need to open cmd and change path where our file is saved. After that we need to write command 'python {file name with py extension}' and press enter. It will display output of python script which is written in provided file."
   ]
  },
  {
   "cell_type": "raw",
   "id": "bc21959b-b3b6-4e15-959d-fc039b907110",
   "metadata": {},
   "source": []
  },
  {
   "cell_type": "markdown",
   "id": "7b0a5fd7-49f1-480a-9ba2-84a645d8e98d",
   "metadata": {},
   "source": [
    "#### Q5. Given a list my_list = [1, 2, 3, 4, 5], write the code to slice the list and obtain the sub-list [2, 3]."
   ]
  },
  {
   "cell_type": "code",
   "execution_count": 18,
   "id": "7a07c16d-9a26-4aa3-8fd0-e12e0a42d3a8",
   "metadata": {},
   "outputs": [],
   "source": [
    "my_list = [1,2,3,4,5]"
   ]
  },
  {
   "cell_type": "code",
   "execution_count": 19,
   "id": "15e58937-b1fd-4c62-acb2-0d46742e9287",
   "metadata": {},
   "outputs": [
    {
     "data": {
      "text/plain": [
       "[1, 2, 3, 4, 5]"
      ]
     },
     "execution_count": 19,
     "metadata": {},
     "output_type": "execute_result"
    }
   ],
   "source": [
    "my_list"
   ]
  },
  {
   "cell_type": "code",
   "execution_count": 21,
   "id": "eb6c9be5-5221-4774-8b69-d888bedc70dc",
   "metadata": {},
   "outputs": [
    {
     "data": {
      "text/plain": [
       "[2, 3]"
      ]
     },
     "execution_count": 21,
     "metadata": {},
     "output_type": "execute_result"
    }
   ],
   "source": [
    "my_list[1:3]"
   ]
  },
  {
   "cell_type": "code",
   "execution_count": 24,
   "id": "5842d4c0-1f21-46eb-9e1f-12d9e503a545",
   "metadata": {},
   "outputs": [
    {
     "data": {
      "text/plain": [
       "[2, 3]"
      ]
     },
     "execution_count": 24,
     "metadata": {},
     "output_type": "execute_result"
    }
   ],
   "source": [
    "my_list[-4:3]"
   ]
  },
  {
   "cell_type": "raw",
   "id": "b0de4895-397a-4562-b9e3-75a2d139d975",
   "metadata": {},
   "source": []
  },
  {
   "cell_type": "markdown",
   "id": "cf645b55-d93f-4237-8031-3285a85861d2",
   "metadata": {},
   "source": [
    "#### Q6. What is a complex number in mathematics, and how is it represented in Python?"
   ]
  },
  {
   "cell_type": "markdown",
   "id": "3302cb4a-dc94-4cc9-b00a-e221e75eb748",
   "metadata": {},
   "source": [
    "Complex number is a element which contains real number and imaginary unit. Imaginary unit denotes with 'i'\n",
    "ex: 1+2i\n",
    "\n",
    "In python imaginary unit denotes with 'j'.\n",
    "ex: 1+2j"
   ]
  },
  {
   "cell_type": "code",
   "execution_count": 25,
   "id": "9b13b636-bb42-4430-8efe-d04a8be317e5",
   "metadata": {},
   "outputs": [],
   "source": [
    "varComplex = 1+2j"
   ]
  },
  {
   "cell_type": "code",
   "execution_count": 26,
   "id": "5331d351-da4c-4e9c-b6ee-29f750510b6c",
   "metadata": {},
   "outputs": [
    {
     "data": {
      "text/plain": [
       "complex"
      ]
     },
     "execution_count": 26,
     "metadata": {},
     "output_type": "execute_result"
    }
   ],
   "source": [
    "type(varComplex)"
   ]
  },
  {
   "cell_type": "raw",
   "id": "33617664-7c9f-4958-9109-4c04e6a6c093",
   "metadata": {},
   "source": []
  },
  {
   "cell_type": "markdown",
   "id": "88373930-e0fc-440d-8d9a-3b4e45ac2a59",
   "metadata": {},
   "source": [
    "#### Q7. What is the correct way to declare a variable named age and assign the value 25 to it?"
   ]
  },
  {
   "cell_type": "markdown",
   "id": "40f9eac2-b2b3-45fc-984f-a5f30ae4b404",
   "metadata": {},
   "source": [
    "In python we can not declare a variable with specific data type. Varibale will create once we assign value to it."
   ]
  },
  {
   "cell_type": "code",
   "execution_count": 29,
   "id": "08157d79-15af-49ed-b334-c6cfc95a8ea6",
   "metadata": {},
   "outputs": [],
   "source": [
    "age = 25"
   ]
  },
  {
   "cell_type": "code",
   "execution_count": 30,
   "id": "66ac9bff-8763-406d-bb86-766033442cb1",
   "metadata": {},
   "outputs": [
    {
     "data": {
      "text/plain": [
       "25"
      ]
     },
     "execution_count": 30,
     "metadata": {},
     "output_type": "execute_result"
    }
   ],
   "source": [
    "age"
   ]
  },
  {
   "cell_type": "raw",
   "id": "28788d22-6fde-4055-827b-773e71513197",
   "metadata": {},
   "source": []
  },
  {
   "cell_type": "markdown",
   "id": "7467c970-2a55-4ba9-b1f6-77e8d33d9c1b",
   "metadata": {},
   "source": [
    "#### Q8. Declare a variable named price and assign the value 9.99 to it. What data type does this variable belong to?"
   ]
  },
  {
   "cell_type": "code",
   "execution_count": 31,
   "id": "77bbfc70-e406-4dec-b411-f4a0aea9426c",
   "metadata": {},
   "outputs": [],
   "source": [
    "price = 9.99"
   ]
  },
  {
   "cell_type": "code",
   "execution_count": 32,
   "id": "91fdad97-9969-4b97-8b32-509d5cdb7a08",
   "metadata": {},
   "outputs": [
    {
     "data": {
      "text/plain": [
       "float"
      ]
     },
     "execution_count": 32,
     "metadata": {},
     "output_type": "execute_result"
    }
   ],
   "source": [
    "type(price)"
   ]
  },
  {
   "cell_type": "raw",
   "id": "76c85ae9-4db3-449e-a296-a7c26438138b",
   "metadata": {},
   "source": []
  },
  {
   "cell_type": "markdown",
   "id": "77050ac9-2b77-4b94-a1cb-19b968d46d1c",
   "metadata": {},
   "source": [
    "#### Q9. Create a variable named name and assign your full name to it as a string. How would you print the value of this variable?"
   ]
  },
  {
   "cell_type": "code",
   "execution_count": 33,
   "id": "aee6361f-ee5e-4e60-94a8-4753005c3af6",
   "metadata": {},
   "outputs": [],
   "source": [
    "name = 'Jaymin Trivedi'"
   ]
  },
  {
   "cell_type": "code",
   "execution_count": 34,
   "id": "feb509f8-63a9-4e87-8ef5-f9bb68ac2eee",
   "metadata": {},
   "outputs": [
    {
     "name": "stdout",
     "output_type": "stream",
     "text": [
      "Jaymin Trivedi\n"
     ]
    }
   ],
   "source": [
    "print(name)"
   ]
  },
  {
   "cell_type": "raw",
   "id": "fce90c62-bd1d-4ca8-873f-20d06f74b36b",
   "metadata": {},
   "source": []
  },
  {
   "cell_type": "markdown",
   "id": "a13cec00-9899-45a7-ae8b-c3ac04773347",
   "metadata": {},
   "source": [
    "#### Q10. Given the string \"Hello, World!\", extract the substring \"World\"."
   ]
  },
  {
   "cell_type": "code",
   "execution_count": 36,
   "id": "99e97884-bf88-4621-8aa8-d18fd437d4bd",
   "metadata": {},
   "outputs": [],
   "source": [
    "varWelcome = \"Hello, World!\""
   ]
  },
  {
   "cell_type": "code",
   "execution_count": 37,
   "id": "da27b639-bb85-4597-9d5f-b3801e13d56d",
   "metadata": {},
   "outputs": [
    {
     "data": {
      "text/plain": [
       "'World'"
      ]
     },
     "execution_count": 37,
     "metadata": {},
     "output_type": "execute_result"
    }
   ],
   "source": [
    "varWelcome[7:12]"
   ]
  },
  {
   "cell_type": "raw",
   "id": "89708191-c2b3-4d63-8697-ac31505664b5",
   "metadata": {},
   "source": []
  },
  {
   "cell_type": "markdown",
   "id": "b74121f9-c738-4357-b0ea-d3839c158972",
   "metadata": {},
   "source": [
    "#### Q11. Create a variable named \"is_student\" and assign it a boolean value indicating whether you are currently a student or not."
   ]
  },
  {
   "cell_type": "code",
   "execution_count": 39,
   "id": "b271a4eb-2f8d-420f-8cc7-cb87e4c1f5db",
   "metadata": {},
   "outputs": [
    {
     "name": "stdout",
     "output_type": "stream",
     "text": [
      "You are a student.\n"
     ]
    }
   ],
   "source": [
    "is_student = True\n",
    "\n",
    "if is_student:\n",
    "    print(\"You are a student.\")\n",
    "else:\n",
    "    print(\"Yor are not a student\")"
   ]
  },
  {
   "cell_type": "code",
   "execution_count": null,
   "id": "a6aa5267-ee19-43af-ba29-84244a7e08c9",
   "metadata": {},
   "outputs": [],
   "source": []
  }
 ],
 "metadata": {
  "kernelspec": {
   "display_name": "Python 3 (ipykernel)",
   "language": "python",
   "name": "python3"
  },
  "language_info": {
   "codemirror_mode": {
    "name": "ipython",
    "version": 3
   },
   "file_extension": ".py",
   "mimetype": "text/x-python",
   "name": "python",
   "nbconvert_exporter": "python",
   "pygments_lexer": "ipython3",
   "version": "3.10.8"
  }
 },
 "nbformat": 4,
 "nbformat_minor": 5
}
