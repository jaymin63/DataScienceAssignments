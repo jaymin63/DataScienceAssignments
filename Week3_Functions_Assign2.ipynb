{
 "cells": [
  {
   "cell_type": "markdown",
   "id": "0cfe3661-bac5-49e2-962b-3ff49ad77190",
   "metadata": {},
   "source": [
    "# <center>Assignment - 4 Functions</center>"
   ]
  },
  {
   "cell_type": "markdown",
   "id": "efb87cd1-5c48-4cdc-9ca6-cddf20a80d7f",
   "metadata": {},
   "source": [
    "#### Q1. Create a python program to sort the given list of tuples based on integer value using a lambda function.\n",
    "\n",
    "#### [('Sachin Tendulkar', 34357), ('Ricky Ponting', 27483), ('Jack Kallis', 25534), ('Virat Kohli', 24936)]"
   ]
  },
  {
   "cell_type": "code",
   "execution_count": 14,
   "id": "d01002c3-38cb-4f3a-957f-68b552a14acc",
   "metadata": {},
   "outputs": [],
   "source": [
    "# sort the list using sorted function and lambda function\n",
    "\n",
    "list_of_tuple = [('Sachin Tendulkar', 34357), ('Ricky Ponting', 27483), ('Jack Kallis', 25534), ('Virat Kohli', 24936)]\n",
    "\n",
    "sorted_list = sorted(list_of_tuple, key = lambda x: x[1])"
   ]
  },
  {
   "cell_type": "code",
   "execution_count": 15,
   "id": "39a5567e-93f8-41e1-a883-76af48b91e49",
   "metadata": {},
   "outputs": [
    {
     "name": "stdout",
     "output_type": "stream",
     "text": [
      "[('Virat Kohli', 24936), ('Jack Kallis', 25534), ('Ricky Ponting', 27483), ('Sachin Tendulkar', 34357)]\n"
     ]
    }
   ],
   "source": [
    "print(sorted_list)"
   ]
  },
  {
   "cell_type": "raw",
   "id": "7713cd0c-0fd6-4d81-b427-4226a142141b",
   "metadata": {},
   "source": []
  },
  {
   "cell_type": "markdown",
   "id": "8f6b53da-b163-4db3-861e-77c2b3c2e2d0",
   "metadata": {},
   "source": [
    "#### Q2. Write a Python Program to find the squares of all the numbers in the given list of integers using lambda and map functions.\n",
    "#### [1, 2, 3, 4, 5, 6, 7, 8, 9, 10]"
   ]
  },
  {
   "cell_type": "code",
   "execution_count": 17,
   "id": "fd7e4b55-e16e-4b01-b074-def508384201",
   "metadata": {},
   "outputs": [
    {
     "name": "stdout",
     "output_type": "stream",
     "text": [
      "[1, 4, 9, 16, 25, 36, 49, 64, 81, 100]\n"
     ]
    }
   ],
   "source": [
    "# function with lambda and map functions\n",
    "\n",
    "num_list = [1, 2, 3, 4, 5, 6, 7, 8, 9, 10]\n",
    "\n",
    "list_of_sq = list(map(lambda x: x**2, num_list))\n",
    "\n",
    "print(list_of_sq)"
   ]
  },
  {
   "cell_type": "raw",
   "id": "60c2b443-099e-4eb1-a0ca-565cd4d3112b",
   "metadata": {},
   "source": []
  },
  {
   "cell_type": "markdown",
   "id": "40cc9271-04f1-4663-8a9e-8b81db40ce79",
   "metadata": {},
   "source": [
    "#### Q3. Write a python program to convert the given list of integers into a tuple of strings. Use map and lambda functions\n",
    "\n",
    "#### Given String: [1, 2, 3, 4, 5, 6, 7, 8, 9, 10]\n",
    "\n",
    "#### Expected output: ('1', '2', '3', '4', '5', '6', '7', '8', '9', '10')"
   ]
  },
  {
   "cell_type": "code",
   "execution_count": 19,
   "id": "4a654cdb-9458-4cc4-a554-3a20aa2ea082",
   "metadata": {},
   "outputs": [
    {
     "name": "stdout",
     "output_type": "stream",
     "text": [
      "('1', '2', '3', '4', '5', '6', '7', '8', '9', '10')\n"
     ]
    }
   ],
   "source": [
    "# convert list into tuple of string\n",
    "\n",
    "numbers_list = [1, 2, 3, 4, 5, 6, 7, 8, 9, 10]\n",
    "\n",
    "touple_of_str = tuple(map(lambda num : str(num), numbers_list))\n",
    "\n",
    "print(touple_of_str)"
   ]
  },
  {
   "cell_type": "raw",
   "id": "8a4722f4-0dfd-4686-81a4-bae149b15195",
   "metadata": {},
   "source": []
  },
  {
   "cell_type": "markdown",
   "id": "ba5a9e29-cbbc-4202-93f7-649c203437ed",
   "metadata": {},
   "source": [
    "#### Q4. Write a python program using reduce function to compute the product of a list containing numbers from 1 to 25."
   ]
  },
  {
   "cell_type": "code",
   "execution_count": 21,
   "id": "df2aaa4f-3c19-4c58-9f9c-22ec1b892873",
   "metadata": {},
   "outputs": [],
   "source": [
    "# find the produc of elements in a list\n",
    "\n",
    "from functools import reduce\n",
    "\n",
    "range_list = range(1,26)\n",
    "\n",
    "product_of_nums = reduce(lambda x, y : x * y, range_list)"
   ]
  },
  {
   "cell_type": "code",
   "execution_count": 22,
   "id": "716933e1-9c20-4ea8-aa27-7acbf8b42276",
   "metadata": {},
   "outputs": [
    {
     "name": "stdout",
     "output_type": "stream",
     "text": [
      "15511210043330985984000000\n"
     ]
    }
   ],
   "source": [
    "print(product_of_nums)"
   ]
  },
  {
   "cell_type": "raw",
   "id": "1998d236-3786-44c1-a3c5-d991b5901e4f",
   "metadata": {},
   "source": []
  },
  {
   "cell_type": "markdown",
   "id": "aefc7c6a-9672-49d3-bb76-6e32fdc2684e",
   "metadata": {},
   "source": [
    "#### Q5. Write a python program to filter the numbers in a given list that are divisible by 2 and 3 using the filter function.\n",
    "#### [2, 3, 6, 9, 27, 60, 90, 120, 55, 46]"
   ]
  },
  {
   "cell_type": "code",
   "execution_count": 24,
   "id": "880404e3-65e4-4001-b457-9e57b621b639",
   "metadata": {},
   "outputs": [
    {
     "name": "stdout",
     "output_type": "stream",
     "text": [
      "[6, 60, 90, 120]\n"
     ]
    }
   ],
   "source": [
    "# find numbers which is devesible by 2 and 3\n",
    "\n",
    "list1 = [2, 3, 6, 9, 27, 60, 90, 120, 55, 46]\n",
    "\n",
    "final_list = list(filter(lambda x: x % 2 == 0 and x % 3 == 0, list1))\n",
    "\n",
    "print(final_list)"
   ]
  },
  {
   "cell_type": "raw",
   "id": "be279aca-b4de-401a-b5f5-c3e33aa77863",
   "metadata": {},
   "source": []
  },
  {
   "cell_type": "markdown",
   "id": "37e62d0e-3932-4a1a-9bef-711235f5481f",
   "metadata": {},
   "source": [
    "#### Q6. Write a python program to find palindromes in the given list of strings using lambda and filter function.\n",
    "#### ['python', 'php', 'aba', 'radar', 'level']"
   ]
  },
  {
   "cell_type": "code",
   "execution_count": 29,
   "id": "589d7d6b-4833-4cea-ba5e-bf946b41fab6",
   "metadata": {},
   "outputs": [
    {
     "name": "stdout",
     "output_type": "stream",
     "text": [
      "['php', 'aba', 'radar', 'level']\n"
     ]
    }
   ],
   "source": [
    "# find palindrome string\n",
    "\n",
    "list_of_str1 = ['python', 'php', 'aba', 'radar', 'level']\n",
    "\n",
    "palindrome_str = list(filter(lambda s : s == s[::-1], list_of_str1))\n",
    "\n",
    "print(palindrome_str)"
   ]
  },
  {
   "cell_type": "code",
   "execution_count": null,
   "id": "1de68245-d9ea-45a1-8201-822683e31486",
   "metadata": {},
   "outputs": [],
   "source": []
  }
 ],
 "metadata": {
  "kernelspec": {
   "display_name": "Python 3 (ipykernel)",
   "language": "python",
   "name": "python3"
  },
  "language_info": {
   "codemirror_mode": {
    "name": "ipython",
    "version": 3
   },
   "file_extension": ".py",
   "mimetype": "text/x-python",
   "name": "python",
   "nbconvert_exporter": "python",
   "pygments_lexer": "ipython3",
   "version": "3.10.8"
  }
 },
 "nbformat": 4,
 "nbformat_minor": 5
}
