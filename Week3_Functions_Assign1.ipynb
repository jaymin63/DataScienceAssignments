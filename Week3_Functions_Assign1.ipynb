{
 "cells": [
  {
   "cell_type": "markdown",
   "id": "1a75d0f3-4883-4e1a-8aaa-e145c87e1715",
   "metadata": {},
   "source": [
    "# <center>Assignment - 3 Functions</center>"
   ]
  },
  {
   "cell_type": "markdown",
   "id": "6b446bb9-2082-4a42-bd3e-1e2283878e92",
   "metadata": {},
   "source": [
    "#### Q1. Which keyword is used to create a function? Create a function to return a list of odd numbers in the range of 1 to 25."
   ]
  },
  {
   "cell_type": "markdown",
   "id": "1a079b27-19d6-4cf3-aad8-6436415f86c1",
   "metadata": {},
   "source": [
    "* <b>def</b> keyword is used to create a function in python."
   ]
  },
  {
   "cell_type": "code",
   "execution_count": 3,
   "id": "c98a56d4-caa2-4356-9a3b-4b511a37ec38",
   "metadata": {},
   "outputs": [],
   "source": [
    "# function for get the odd number in range of 1 to 25\n",
    "\n",
    "def get_odd_nums() :\n",
    "    oddNum = []\n",
    "    for num in range(1,26) :\n",
    "        if num % 2  != 0:\n",
    "            oddNum.append(num)\n",
    "    return oddNum"
   ]
  },
  {
   "cell_type": "code",
   "execution_count": 5,
   "id": "9bcde828-5e5c-46ac-b752-05a0e78207f9",
   "metadata": {},
   "outputs": [
    {
     "data": {
      "text/plain": [
       "[1, 3, 5, 7, 9, 11, 13, 15, 17, 19, 21, 23, 25]"
      ]
     },
     "execution_count": 5,
     "metadata": {},
     "output_type": "execute_result"
    }
   ],
   "source": [
    "# function call\n",
    "get_odd_nums()"
   ]
  },
  {
   "cell_type": "raw",
   "id": "54102962-e022-4c3d-a402-861c803d27cc",
   "metadata": {},
   "source": []
  },
  {
   "cell_type": "markdown",
   "id": "d3906f13-cb25-40ad-9d9b-37147da65ac2",
   "metadata": {},
   "source": [
    "#### Q2. Why *args and **kwargs is used in some functions? Create a function each for *args and **kwargs to demonstrate their use."
   ]
  },
  {
   "cell_type": "markdown",
   "id": "07cb1c5c-39f9-4f7f-b2b8-9144f650a502",
   "metadata": {},
   "source": [
    "* <strong>*args</strong> is used for pass varible number of non keyworded argument to functions.\n",
    "* We need to use and asterisk '*' before the parameter name for pass varible number of arguments in function.\n",
    "* <strong>*args</strong> is stored data in form of tuple in function.\n",
    "<br/>\n",
    "* <strong>**kwargs</strong> is used for pass variable number of keyworded argument to functions.\n",
    "* We need to pass variables name and their value as a parameter.\n",
    "* <strong>**kwargs</strong> is stored parameter in form of dectionary. Every parameter saved with key value pair.\n",
    "\n",
    "Please find examples below:"
   ]
  },
  {
   "cell_type": "code",
   "execution_count": 15,
   "id": "c6f32a08-4d3c-4224-b383-8b2aa6fdaab0",
   "metadata": {},
   "outputs": [],
   "source": [
    "# we have a requirement to create function which return list of square number of provided parameter.\n",
    "\n",
    "def get_sq(*args) :\n",
    "    sq_num = []\n",
    "    for num in args :\n",
    "        sq_num.append(num**2)\n",
    "    return sq_num"
   ]
  },
  {
   "cell_type": "code",
   "execution_count": 16,
   "id": "368c694f-738b-44f1-a9dd-0729e72e53c5",
   "metadata": {},
   "outputs": [
    {
     "data": {
      "text/plain": [
       "[1, 4, 9]"
      ]
     },
     "execution_count": 16,
     "metadata": {},
     "output_type": "execute_result"
    }
   ],
   "source": [
    "get_sq(1,2,3)"
   ]
  },
  {
   "cell_type": "code",
   "execution_count": 17,
   "id": "b45e0bba-8a54-4eb1-bde2-cdf6e0fa0223",
   "metadata": {},
   "outputs": [
    {
     "data": {
      "text/plain": [
       "[1, 4, 9, 16, 25]"
      ]
     },
     "execution_count": 17,
     "metadata": {},
     "output_type": "execute_result"
    }
   ],
   "source": [
    "get_sq(1,2,3,4,5)"
   ]
  },
  {
   "cell_type": "code",
   "execution_count": 18,
   "id": "85d6fcfb-1a54-40e0-8d16-6d60dd19441c",
   "metadata": {},
   "outputs": [
    {
     "data": {
      "text/plain": [
       "[1, 4, 25, 81, 49, 36, 100, 225, 900, 625]"
      ]
     },
     "execution_count": 18,
     "metadata": {},
     "output_type": "execute_result"
    }
   ],
   "source": [
    "get_sq(1,2,5,9,7,6,10,15,30,25)"
   ]
  },
  {
   "cell_type": "code",
   "execution_count": 23,
   "id": "a4318248-3797-4600-9663-95de40825a8d",
   "metadata": {},
   "outputs": [],
   "source": [
    "# we have a requirement to createfunction which display user details\n",
    "\n",
    "def get_user_details(**kwargs) :\n",
    "    for ele in kwargs.keys():\n",
    "        print(f\"{ele} : {kwargs[ele]}\")"
   ]
  },
  {
   "cell_type": "code",
   "execution_count": 24,
   "id": "8a76cf14-79ed-4ce3-8a4c-98de7c008214",
   "metadata": {},
   "outputs": [
    {
     "name": "stdout",
     "output_type": "stream",
     "text": [
      "firstName : Jaymin\n",
      "lastName : Trivedi\n",
      "Address : Gujarat\n"
     ]
    }
   ],
   "source": [
    "get_user_details(firstName = 'Jaymin', lastName = 'Trivedi', Address = 'Gujarat')"
   ]
  },
  {
   "cell_type": "raw",
   "id": "9975762b-e522-4ab8-8aa0-004485aedbf8",
   "metadata": {},
   "source": []
  },
  {
   "cell_type": "markdown",
   "id": "73a4a5f9-b08c-41bc-b7d3-c2ae8b9e1340",
   "metadata": {},
   "source": [
    "#### Q3. What is an iterator in python? Name the method used to initialise the iterator object and the method used for iteration. Use these methods to print the first five elements of the given list [2, 4, 6, 8, 10, 12, 14, 16, 18, 20]."
   ]
  },
  {
   "cell_type": "markdown",
   "id": "15b5b63c-1f6e-4cd0-bb70-1ddb93334fee",
   "metadata": {},
   "source": [
    "* Iterator is an object that is used to iterate over iterable objects like lists, tuples, dictionary and sets.\n",
    "* <b>iter() :</b> The iter() is called for the initialization for and iterator. This returns an iterator object.\n",
    "* <b>next() :</b> The next method returns the next value for the iterable. This method used for the iteration."
   ]
  },
  {
   "cell_type": "code",
   "execution_count": 1,
   "id": "535064e1-e2fc-42cb-81cc-4ae0b75d87e6",
   "metadata": {},
   "outputs": [
    {
     "name": "stdout",
     "output_type": "stream",
     "text": [
      "2\n",
      "4\n",
      "6\n",
      "8\n",
      "10\n"
     ]
    }
   ],
   "source": [
    "varList = [2, 4, 6, 8, 10, 12, 14, 16, 18, 20]\n",
    "\n",
    "list_iterator = iter(varList)\n",
    "\n",
    "print(next(list_iterator))\n",
    "print(next(list_iterator))\n",
    "print(next(list_iterator))\n",
    "print(next(list_iterator))\n",
    "print(next(list_iterator))"
   ]
  },
  {
   "cell_type": "raw",
   "id": "154c0b7a-f2e4-4070-b19b-f27c857bc96b",
   "metadata": {},
   "source": []
  },
  {
   "cell_type": "markdown",
   "id": "e2e4d46c-cfd5-4cfb-bbac-ad7d38c6268b",
   "metadata": {},
   "source": [
    "#### Q4. What is a generator function in python? Why yield keyword is used? Give an example of a generator function."
   ]
  },
  {
   "cell_type": "markdown",
   "id": "6e959b30-a3a9-4cbc-a007-be30e64b4b31",
   "metadata": {},
   "source": [
    "* Generator function in python is a special function which doesn't return a single value. It return an iterator object with sequence of values.\n",
    "* Generator function uses yield statement. It doesn't use return statement.\n",
    "\n",
    "\n",
    "* yield keyword is used for create generator function.\n",
    "* yield keyword is pauses the execution of the function.\n",
    "* yield keyword is memory efficient. Execution starts when caller iterates the object.\n",
    "* it is also saved variale states. So, we can pause and resume exection from same point so, its time saving also."
   ]
  },
  {
   "cell_type": "code",
   "execution_count": 34,
   "id": "750abaf9-2ca6-405b-a6e9-fa94d84eee87",
   "metadata": {},
   "outputs": [],
   "source": [
    "# create generator function which retuen fibonacci series of provided range\n",
    "\n",
    "def get_fibonacci(n) :\n",
    "    a, b = 0, 1\n",
    "    for i in range(n) :\n",
    "        yield a\n",
    "        a, b = b, a+b\n",
    "        "
   ]
  },
  {
   "cell_type": "code",
   "execution_count": 35,
   "id": "9e0f05c6-a63d-42d7-822e-968a862b8bd7",
   "metadata": {},
   "outputs": [
    {
     "name": "stdout",
     "output_type": "stream",
     "text": [
      "0\n",
      "1\n",
      "1\n",
      "2\n",
      "3\n",
      "5\n",
      "8\n",
      "13\n",
      "21\n",
      "34\n"
     ]
    }
   ],
   "source": [
    "for i in get_fibonacci(10) :\n",
    "    print(i)"
   ]
  },
  {
   "cell_type": "raw",
   "id": "9e8f7ed7-2804-44be-9cf4-a2f7a6174d6e",
   "metadata": {},
   "source": []
  },
  {
   "cell_type": "markdown",
   "id": "8a25cc83-bf10-4dc9-bfbf-ed0db1a0ed28",
   "metadata": {},
   "source": [
    "#### Q5. Create a generator function for prime numbers less than 1000. Use the next() method to print the first 20 prime numbers."
   ]
  },
  {
   "cell_type": "code",
   "execution_count": 4,
   "id": "91f1d2b5-3568-4d2a-b5ea-61c423f94509",
   "metadata": {},
   "outputs": [],
   "source": [
    "# generator function\n",
    "\n",
    "def get_prime() :\n",
    "    for i in range(1,1000) :\n",
    "        count = 0\n",
    "        for j in range(1,i+1) :\n",
    "            if i % j == 0 :\n",
    "                count = count + 1\n",
    "        if count == 2 : \n",
    "            yield i\n",
    "            "
   ]
  },
  {
   "cell_type": "code",
   "execution_count": 6,
   "id": "0f9fbcdd-a256-4455-b1af-0d64eb2ff089",
   "metadata": {},
   "outputs": [
    {
     "name": "stdout",
     "output_type": "stream",
     "text": [
      "2\n",
      "3\n",
      "5\n",
      "7\n",
      "11\n",
      "13\n",
      "17\n",
      "19\n",
      "23\n",
      "29\n",
      "31\n",
      "37\n",
      "41\n",
      "43\n",
      "47\n",
      "53\n",
      "59\n",
      "61\n",
      "67\n",
      "71\n"
     ]
    }
   ],
   "source": [
    "# call generator function using for loop\n",
    "count = 0\n",
    "\n",
    "prime_numbers = iter(get_prime())\n",
    "\n",
    "for i in range(20):\n",
    "    print(next(prime_numbers))"
   ]
  },
  {
   "cell_type": "code",
   "execution_count": null,
   "id": "b638b4dc-833a-4103-912b-73e2d0f9ca04",
   "metadata": {},
   "outputs": [],
   "source": []
  }
 ],
 "metadata": {
  "kernelspec": {
   "display_name": "Python 3 (ipykernel)",
   "language": "python",
   "name": "python3"
  },
  "language_info": {
   "codemirror_mode": {
    "name": "ipython",
    "version": 3
   },
   "file_extension": ".py",
   "mimetype": "text/x-python",
   "name": "python",
   "nbconvert_exporter": "python",
   "pygments_lexer": "ipython3",
   "version": "3.10.8"
  }
 },
 "nbformat": 4,
 "nbformat_minor": 5
}
